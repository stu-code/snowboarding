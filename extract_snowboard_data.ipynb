{
 "cells": [
  {
   "cell_type": "code",
   "execution_count": 1,
   "metadata": {},
   "outputs": [],
   "source": [
    "import pandas as pd\n",
    "import json\n",
    "import os\n",
    "import xml.etree.ElementTree as ET\n",
    "import requests\n",
    "from zipfile import ZipFile\n",
    "from dateutil import parser"
   ]
  },
  {
   "cell_type": "markdown",
   "metadata": {},
   "source": [
    "## Get Data"
   ]
  },
  {
   "cell_type": "code",
   "execution_count": 2,
   "metadata": {},
   "outputs": [],
   "source": [
    "data_loc = os.path.join(os.getcwd(), 'data')\n",
    "hr_data  = os.path.join(data_loc, 'hr')\n",
    "gps_data = os.path.join(data_loc, 'gps')"
   ]
  },
  {
   "cell_type": "markdown",
   "metadata": {},
   "source": [
    "## Read Heartrate Data"
   ]
  },
  {
   "cell_type": "code",
   "execution_count": 3,
   "metadata": {},
   "outputs": [],
   "source": [
    "df_list  = []\n",
    "    \n",
    "for json_file in os.listdir(hr_data):\n",
    "    with open(os.path.join(hr_data, json_file)) as f:\n",
    "        data = json.load(f)\n",
    "        \n",
    "    df = pd.json_normalize(data, sep='_')\n",
    "    df.columns = df.columns.str.lower().str.replace('value_', '')\n",
    "    df['datetime'] = ( pd.to_datetime(df['datetime'], format='%m/%d/%y %H:%M:%S', utc=True)\n",
    "                         .dt.tz_localize(None)\n",
    "                     )\n",
    "    df_list.append(df)\n",
    "        \n",
    "df_hr = ( pd.concat(df_list, ignore_index=True)\n",
    "          .drop_duplicates(subset=['datetime'], ignore_index=True)\n",
    "          .rename(columns={'datetime':'timestamp'})\n",
    "          .sort_values('timestamp')\n",
    "        )"
   ]
  },
  {
   "cell_type": "markdown",
   "metadata": {},
   "source": [
    "## Read GPS Data"
   ]
  },
  {
   "cell_type": "code",
   "execution_count": 4,
   "metadata": {},
   "outputs": [],
   "source": [
    "''' Read GPS data in GPX format without needing to import a separate GPX \n",
    "    package. GPX data looks like this:\n",
    "        \n",
    "    <?xml version=\"1.0\" encoding=\"UTF-8\"?>\n",
    "    <gpx xmlns=\"http://www.topografix.com/GPX/1/1\" xmlns:xsi=\"http://www.w3.org/2001/XMLSchema-instance\" xmlns:gte=\"http://www.gpstrackeditor.com/xmlschemas/General/1\" xsi:schemaLocation=\"http://www.topografix.com/GPX/1/1 http://www.topografix.com/GPX/1/1/gpx.xsd\" version=\"1.1\" creator=\"Slopes for Android - http://getslopes.com\">\n",
    "      <trk>\n",
    "        <name>Jan 25, 2024 - Keystone Resort</name>\n",
    "        <trkseg>\n",
    "          <trkpt lat=\"39.605675\" lon=\"-105.941414\">\n",
    "            <ele>2856.891977</ele>\n",
    "            <time>2024-01-25T09:13:52.453-07:00</time>\n",
    "            <hdop>19</hdop>\n",
    "            <vdop>4</vdop>\n",
    "            <extensions>\n",
    "              <gte:gps speed=\"1.317580\" azimuth=\"212.300003\"/>\n",
    "            </extensions>\n",
    "          </trkpt>\n",
    "       </trkseg>\n",
    "      </trk>\n",
    "    </gpx>\n",
    "    \n",
    "    There are two namespaces we need to use:\n",
    "        1. The gpx namespace: http://www.topografix.com/GPX/1/1\n",
    "        2. The gte namespace http://www.gpstrackeditor.com/xmlschemas/General/1\n",
    "        \n",
    "    The gte namespace is used to extract gps and azimuth data from the \n",
    "    <extensions> tag\n",
    "'''\n",
    "gpx_namespace = '{http://www.topografix.com/GPX/1/1}'\n",
    "gte_namespace = '{http://www.gpstrackeditor.com/xmlschemas/General/1}'\n",
    "    \n",
    "all_gps_data = []\n",
    "file_list    = [file_name for file_name in os.listdir(gps_data) if file_name.endswith(\".gpx\")]\n",
    "    \n",
    "for gpx_file in file_list:\n",
    "  with open(os.path.join(gps_data, gpx_file)) as f:\n",
    "    root = ET.parse(f)\n",
    "        \n",
    "    for trkpt in root.findall(f'.//{gpx_namespace}trkpt'):\n",
    "        row = {\n",
    "                \"timestamp\": parser.parse(trkpt.find(f'{gpx_namespace}time').text, ignoretz=True),\n",
    "                \"lat\":       float(trkpt.get(\"lat\")),\n",
    "                \"lon\":       float(trkpt.get(\"lon\")),\n",
    "                \"elevation\": float(trkpt.find(f'{gpx_namespace}ele').text),\n",
    "                \"speed\":     float(trkpt.find(f'.//{gpx_namespace}extensions/{gte_namespace}gps').get(\"speed\")),\n",
    "                \"azimuth\":   float(trkpt.find(f'.//{gpx_namespace}extensions/{gte_namespace}gps').get(\"azimuth\"))\n",
    "              }\n",
    "        \n",
    "        all_gps_data.append(row)\n",
    "\n",
    "df_gps = (pd.DataFrame(all_gps_data)\n",
    "          .drop_duplicates(subset=['timestamp'], ignore_index=True)\n",
    "          .sort_values('timestamp')\n",
    "         )"
   ]
  },
  {
   "cell_type": "markdown",
   "metadata": {},
   "source": [
    "## Read GPS Metadata"
   ]
  },
  {
   "cell_type": "code",
   "execution_count": 5,
   "metadata": {},
   "outputs": [],
   "source": [
    "# Read in GPS metadata. This will help us more easily define runs and lifts\n",
    "# and also give us some additonal information if we want to use it\n",
    "   \n",
    "df_list   = []\n",
    "file_list = [file_name for file_name in os.listdir(gps_data) if file_name.endswith(\".slopes\")]\n",
    "    \n",
    "# .slopes files are just zip files with some CSVs and XML metadata.\n",
    "# We just want to read Metadata.xml\n",
    "for slopes_file in file_list:\n",
    "    with ZipFile(os.path.join(gps_data, slopes_file), 'r') as zip_file:\n",
    "        with zip_file.open('Metadata.xml') as xml_file:\n",
    "            df = pd.read_xml(xml_file, parser='etree', xpath='.//Action')\n",
    "            \n",
    "    # Convert start/end to datetimes without the timezone\n",
    "    df[['start', 'end']] = df[['start', 'end']].map(lambda x: parser.parse(x, ignoretz=True))\n",
    "    df_list.append(df)\n",
    "        \n",
    "# Final GPS metadata dataframe \n",
    "df_gps_meta = pd.concat(df_list, ignore_index=True).sort_values('start')"
   ]
  },
  {
   "cell_type": "code",
   "execution_count": 6,
   "metadata": {},
   "outputs": [],
   "source": [
    "# Set this folder to your favorite output location\n",
    "out = '../data'\n",
    "\n",
    "df_hr.to_parquet(os.path.join(out, 'hr.parquet'))\n",
    "df_gps.to_parquet(os.path.join(out, 'gps.parquet'))\n",
    "df_gps_meta.to_parquet(os.path.join(out, 'gps_meta.parquet'))"
   ]
  }
 ],
 "metadata": {
  "kernelspec": {
   "display_name": "py311",
   "language": "python",
   "name": "python3"
  },
  "language_info": {
   "codemirror_mode": {
    "name": "ipython",
    "version": 3
   },
   "file_extension": ".py",
   "mimetype": "text/x-python",
   "name": "python",
   "nbconvert_exporter": "python",
   "pygments_lexer": "ipython3",
   "version": "3.11.11"
  }
 },
 "nbformat": 4,
 "nbformat_minor": 2
}
