{
 "cells": [
  {
   "cell_type": "code",
   "execution_count": 1,
   "metadata": {},
   "outputs": [],
   "source": [
    "import pandas as pd\n",
    "import json\n",
    "import os\n",
    "import xml.etree.ElementTree as ET\n",
    "import requests\n",
    "from zipfile import ZipFile\n",
    "from dateutil import parser"
   ]
  },
  {
   "cell_type": "markdown",
   "metadata": {},
   "source": [
    "## Get Data"
   ]
  },
  {
   "cell_type": "code",
   "execution_count": 2,
   "metadata": {},
   "outputs": [],
   "source": [
    "data_loc = os.path.join(os.getcwd(), 'data')\n",
    "hr_data  = os.path.join(data_loc, 'hr')\n",
    "gps_data = os.path.join(data_loc, 'gps')"
   ]
  },
  {
   "cell_type": "markdown",
   "metadata": {},
   "source": [
    "## Read Heartrate Data"
   ]
  },
  {
   "cell_type": "code",
   "execution_count": 3,
   "metadata": {},
   "outputs": [],
   "source": [
    "df_list  = []\n",
    "    \n",
    "for json_file in os.listdir(hr_data):\n",
    "    with open(os.path.join(hr_data, json_file)) as f:\n",
    "        data = json.load(f)\n",
    "        \n",
    "    df = pd.json_normalize(data, sep='_')\n",
    "    df.columns = df.columns.str.lower().str.replace('value_', '')\n",
    "    df['datetime'] = ( pd.to_datetime(df['datetime'], format='%m/%d/%y %H:%M:%S', utc=True)\n",
    "                         .dt.tz_localize(None)\n",
    "                     )\n",
    "    df_list.append(df)\n",
    "        \n",
    "df_hr = pd.concat(df_list, ignore_index=True).drop_duplicates(subset=['datetime'], ignore_index=True)"
   ]
  },
  {
   "cell_type": "code",
   "execution_count": 4,
   "metadata": {},
   "outputs": [
    {
     "data": {
      "text/html": [
       "<div>\n",
       "<style scoped>\n",
       "    .dataframe tbody tr th:only-of-type {\n",
       "        vertical-align: middle;\n",
       "    }\n",
       "\n",
       "    .dataframe tbody tr th {\n",
       "        vertical-align: top;\n",
       "    }\n",
       "\n",
       "    .dataframe thead th {\n",
       "        text-align: right;\n",
       "    }\n",
       "</style>\n",
       "<table border=\"1\" class=\"dataframe\">\n",
       "  <thead>\n",
       "    <tr style=\"text-align: right;\">\n",
       "      <th></th>\n",
       "      <th>datetime</th>\n",
       "      <th>bpm</th>\n",
       "      <th>confidence</th>\n",
       "    </tr>\n",
       "  </thead>\n",
       "  <tbody>\n",
       "    <tr>\n",
       "      <th>0</th>\n",
       "      <td>2024-01-25 07:00:03</td>\n",
       "      <td>77</td>\n",
       "      <td>2</td>\n",
       "    </tr>\n",
       "    <tr>\n",
       "      <th>1</th>\n",
       "      <td>2024-01-25 07:00:08</td>\n",
       "      <td>73</td>\n",
       "      <td>3</td>\n",
       "    </tr>\n",
       "    <tr>\n",
       "      <th>2</th>\n",
       "      <td>2024-01-25 07:00:13</td>\n",
       "      <td>72</td>\n",
       "      <td>2</td>\n",
       "    </tr>\n",
       "    <tr>\n",
       "      <th>3</th>\n",
       "      <td>2024-01-25 07:00:18</td>\n",
       "      <td>81</td>\n",
       "      <td>2</td>\n",
       "    </tr>\n",
       "    <tr>\n",
       "      <th>4</th>\n",
       "      <td>2024-01-25 07:00:23</td>\n",
       "      <td>89</td>\n",
       "      <td>2</td>\n",
       "    </tr>\n",
       "    <tr>\n",
       "      <th>...</th>\n",
       "      <td>...</td>\n",
       "      <td>...</td>\n",
       "      <td>...</td>\n",
       "    </tr>\n",
       "    <tr>\n",
       "      <th>160221</th>\n",
       "      <td>2025-03-16 02:56:21</td>\n",
       "      <td>111</td>\n",
       "      <td>1</td>\n",
       "    </tr>\n",
       "    <tr>\n",
       "      <th>160222</th>\n",
       "      <td>2025-03-16 02:56:23</td>\n",
       "      <td>112</td>\n",
       "      <td>1</td>\n",
       "    </tr>\n",
       "    <tr>\n",
       "      <th>160223</th>\n",
       "      <td>2025-03-16 02:56:25</td>\n",
       "      <td>114</td>\n",
       "      <td>1</td>\n",
       "    </tr>\n",
       "    <tr>\n",
       "      <th>160224</th>\n",
       "      <td>2025-03-16 02:56:27</td>\n",
       "      <td>120</td>\n",
       "      <td>1</td>\n",
       "    </tr>\n",
       "    <tr>\n",
       "      <th>160225</th>\n",
       "      <td>2025-03-16 02:56:29</td>\n",
       "      <td>118</td>\n",
       "      <td>2</td>\n",
       "    </tr>\n",
       "  </tbody>\n",
       "</table>\n",
       "<p>160226 rows × 3 columns</p>\n",
       "</div>"
      ],
      "text/plain": [
       "                  datetime  bpm  confidence\n",
       "0      2024-01-25 07:00:03   77           2\n",
       "1      2024-01-25 07:00:08   73           3\n",
       "2      2024-01-25 07:00:13   72           2\n",
       "3      2024-01-25 07:00:18   81           2\n",
       "4      2024-01-25 07:00:23   89           2\n",
       "...                    ...  ...         ...\n",
       "160221 2025-03-16 02:56:21  111           1\n",
       "160222 2025-03-16 02:56:23  112           1\n",
       "160223 2025-03-16 02:56:25  114           1\n",
       "160224 2025-03-16 02:56:27  120           1\n",
       "160225 2025-03-16 02:56:29  118           2\n",
       "\n",
       "[160226 rows x 3 columns]"
      ]
     },
     "execution_count": 4,
     "metadata": {},
     "output_type": "execute_result"
    }
   ],
   "source": [
    "df_hr"
   ]
  },
  {
   "cell_type": "markdown",
   "metadata": {},
   "source": [
    "## Read GPS Data"
   ]
  },
  {
   "cell_type": "code",
   "execution_count": 5,
   "metadata": {},
   "outputs": [],
   "source": [
    "''' Read GPS data in GPX format without needing to import a separate GPX \n",
    "    package. GPX data looks like this:\n",
    "        \n",
    "    <?xml version=\"1.0\" encoding=\"UTF-8\"?>\n",
    "    <gpx xmlns=\"http://www.topografix.com/GPX/1/1\" xmlns:xsi=\"http://www.w3.org/2001/XMLSchema-instance\" xmlns:gte=\"http://www.gpstrackeditor.com/xmlschemas/General/1\" xsi:schemaLocation=\"http://www.topografix.com/GPX/1/1 http://www.topografix.com/GPX/1/1/gpx.xsd\" version=\"1.1\" creator=\"Slopes for Android - http://getslopes.com\">\n",
    "      <trk>\n",
    "        <name>Jan 25, 2024 - Keystone Resort</name>\n",
    "        <trkseg>\n",
    "          <trkpt lat=\"39.605675\" lon=\"-105.941414\">\n",
    "            <ele>2856.891977</ele>\n",
    "            <time>2024-01-25T09:13:52.453-07:00</time>\n",
    "            <hdop>19</hdop>\n",
    "            <vdop>4</vdop>\n",
    "            <extensions>\n",
    "              <gte:gps speed=\"1.317580\" azimuth=\"212.300003\"/>\n",
    "            </extensions>\n",
    "          </trkpt>\n",
    "       </trkseg>\n",
    "      </trk>\n",
    "    </gpx>\n",
    "    \n",
    "    There are two namespaces we need to use:\n",
    "        1. The gpx namespace: http://www.topografix.com/GPX/1/1\n",
    "        2. The gte namespace http://www.gpstrackeditor.com/xmlschemas/General/1\n",
    "        \n",
    "    The gte namespace is used to extract gps and azimuth data from the \n",
    "    <extensions> tag\n",
    "'''\n",
    "gpx_namespace = '{http://www.topografix.com/GPX/1/1}'\n",
    "gte_namespace = '{http://www.gpstrackeditor.com/xmlschemas/General/1}'\n",
    "    \n",
    "all_gps_data = []\n",
    "file_list    = [file_name for file_name in os.listdir(gps_data) if file_name.endswith(\".gpx\")]\n",
    "    \n",
    "for gpx_file in file_list:\n",
    "  with open(os.path.join(gps_data, gpx_file)) as f:\n",
    "    root = ET.parse(f)\n",
    "        \n",
    "    for trkpt in root.findall(f'.//{gpx_namespace}trkpt'):\n",
    "        row = {\n",
    "                \"datetime\":  parser.parse(trkpt.find(f'{gpx_namespace}time').text, ignoretz=True),\n",
    "                \"lat\":       float(trkpt.get(\"lat\")),\n",
    "                \"lon\":       float(trkpt.get(\"lon\")),\n",
    "                \"elevation\": float(trkpt.find(f'{gpx_namespace}ele').text),\n",
    "                \"speed\":     float(trkpt.find(f'.//{gpx_namespace}extensions/{gte_namespace}gps').get(\"speed\")),\n",
    "                \"azimuth\":   float(trkpt.find(f'.//{gpx_namespace}extensions/{gte_namespace}gps').get(\"azimuth\"))\n",
    "              }\n",
    "        \n",
    "        all_gps_data.append(row)\n",
    "\n",
    "df_gps = pd.DataFrame(all_gps_data).drop_duplicates(subset=['datetime'], ignore_index=True)"
   ]
  },
  {
   "cell_type": "markdown",
   "metadata": {},
   "source": [
    "## Read GPS Metadata"
   ]
  },
  {
   "cell_type": "code",
   "execution_count": 6,
   "metadata": {},
   "outputs": [],
   "source": [
    "# Read in GPS metadata. This will help us more easily define runs and lifts\n",
    "# and also give us some additonal information if we want to use it\n",
    "   \n",
    "df_list   = []\n",
    "file_list = [file_name for file_name in os.listdir(gps_data) if file_name.endswith(\".slopes\")]\n",
    "    \n",
    "# .slopes files are just zip files with some CSVs and XML metadata.\n",
    "# We just want to read Metadata.xml\n",
    "for slopes_file in file_list:\n",
    "    with ZipFile(os.path.join(gps_data, slopes_file), 'r') as zip_file:\n",
    "        with zip_file.open('Metadata.xml') as xml_file:\n",
    "            df = pd.read_xml(xml_file, parser='etree', xpath='.//Action')\n",
    "            \n",
    "    # Convert start/end to datetimes without the timezone\n",
    "    df[['start', 'end']] = df[['start', 'end']].map(lambda x: parser.parse(x, ignoretz=True))\n",
    "    df_list.append(df)\n",
    "        \n",
    "# Final GPS metadata dataframe \n",
    "df_gps_meta = pd.concat(df_list, ignore_index=True)"
   ]
  },
  {
   "cell_type": "code",
   "execution_count": 7,
   "metadata": {},
   "outputs": [],
   "source": [
    "# Set this folder to your favorite output location\n",
    "out = '../data'\n",
    "\n",
    "df_hr.to_parquet(os.path.join(out, 'hr.parquet'))\n",
    "df_gps.to_parquet(os.path.join(out, 'gps.parquet'))\n",
    "df_gps_meta.to_parquet(os.path.join(out, 'gps_meta.parquet'))"
   ]
  }
 ],
 "metadata": {
  "kernelspec": {
   "display_name": "py311",
   "language": "python",
   "name": "python3"
  },
  "language_info": {
   "codemirror_mode": {
    "name": "ipython",
    "version": 3
   },
   "file_extension": ".py",
   "mimetype": "text/x-python",
   "name": "python",
   "nbconvert_exporter": "python",
   "pygments_lexer": "ipython3",
   "version": "3.11.11"
  }
 },
 "nbformat": 4,
 "nbformat_minor": 2
}
